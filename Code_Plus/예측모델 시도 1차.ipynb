{
 "cells": [
  {
   "cell_type": "markdown",
   "id": "c823e768",
   "metadata": {},
   "source": [
    "# 데이터 2개 시도해보는중"
   ]
  },
  {
   "cell_type": "markdown",
   "id": "20e7a66c",
   "metadata": {},
   "source": [
    "다층퍼셉트롬/의사결정트리/랜덤포레스트/.. 시도중인데 로딩 시간 길어서ㅠㅠ"
   ]
  },
  {
   "cell_type": "code",
   "execution_count": 1,
   "id": "abf42305",
   "metadata": {},
   "outputs": [],
   "source": [
    "import pandas as pd\n",
    "import numpy as np\n",
    "\n",
    "from sklearn.model_selection import train_test_split\n",
    "from sklearn.preprocessing import MinMaxScaler\n",
    "from sklearn.neural_network import MLPRegressor\n",
    "from sklearn.metrics import mean_squared_error\n",
    "\n",
    "from sklearn.model_selection import train_test_split\n",
    "from sklearn.ensemble import RandomForestRegressor\n",
    "from sklearn.metrics import mean_squared_error"
   ]
  },
  {
   "cell_type": "code",
   "execution_count": 2,
   "id": "537b305f",
   "metadata": {},
   "outputs": [],
   "source": [
    "# 데이터 불러오기\n",
    "df = pd.read_csv('역별 시간대별 노인 승하차.csv', encoding = 'cp949')"
   ]
  },
  {
   "cell_type": "code",
   "execution_count": 3,
   "id": "3bde5c09",
   "metadata": {},
   "outputs": [],
   "source": [
    "# 특성 선택 및 타겟 변수 분리\n",
    "X = df[['호선명', '역번호', '역명', '승하차구분', '06시간대이전', '06-07시간대', '07-08시간대', '08-09시간대', '09-10시간대', \n",
    "                '10-11시간대', '11-12시간대','12-13시간대','13-14시간대','14-15시간대',\n",
    "                '15-16시간대','16-17시간대','17-18시간대','18-19시간대','19-20시간대',\n",
    "                '20-21시간대','21-22시간대','22-23시간대','23-24시간대','24시간대이후']]\n",
    "y = df['승하차인원수']"
   ]
  },
  {
   "cell_type": "code",
   "execution_count": 4,
   "id": "d567d78c",
   "metadata": {},
   "outputs": [],
   "source": [
    "# 범주형 변수 인코딩\n",
    "X_encoded = pd.get_dummies(X, columns=['호선명', '역번호', '역명', '승하차구분'])"
   ]
  },
  {
   "cell_type": "code",
   "execution_count": 5,
   "id": "ae956ee6",
   "metadata": {},
   "outputs": [],
   "source": [
    "# 학습 데이터와 테스트 데이터 분할\n",
    "X_train, X_test, y_train, y_test = train_test_split(X_encoded, y, test_size=0.2, random_state=42)"
   ]
  },
  {
   "cell_type": "code",
   "execution_count": 6,
   "id": "5e128a92",
   "metadata": {},
   "outputs": [],
   "source": [
    "# 랜덤 포레스트 회귀 모델 구축\n",
    "model = RandomForestRegressor(n_estimators=100, random_state=42)"
   ]
  },
  {
   "cell_type": "code",
   "execution_count": null,
   "id": "36862fdf",
   "metadata": {},
   "outputs": [],
   "source": [
    "# 모델 학습\n",
    "model.fit(X_train, y_train)"
   ]
  },
  {
   "cell_type": "code",
   "execution_count": null,
   "id": "1467113e",
   "metadata": {},
   "outputs": [],
   "source": [
    "# 모델 예측\n",
    "y_pred = model.predict(X_test)"
   ]
  },
  {
   "cell_type": "code",
   "execution_count": null,
   "id": "d817ad6b",
   "metadata": {},
   "outputs": [],
   "source": [
    "# 모델 평가\n",
    "mse = mean_squared_error(y_test, y_pred)"
   ]
  },
  {
   "cell_type": "markdown",
   "id": "cd392fd9",
   "metadata": {},
   "source": [
    "from sklearn.tree import export_graphviz\n",
    "import graphviz\n",
    "\n",
    "# 의사결정 트리 모델 구축\n",
    "decision_tree_model = DecisionTreeRegressor(random_state=42)\n",
    "decision_tree_model.fit(X_train, y_train)\n",
    "\n",
    "# 의사결정 트리 시각화\n",
    "dot_data = export_graphviz(decision_tree_model, out_file=None,\n",
    "                           feature_names=X_encoded.columns,\n",
    "                           filled=True, rounded=True)\n",
    "graph = graphviz.Source(dot_data)\n",
    "graph.render(\"decision_tree\")\n",
    "\n",
    "# 의사결정 트리 출력\n",
    "graph\n"
   ]
  },
  {
   "cell_type": "markdown",
   "id": "3cf118d7",
   "metadata": {},
   "source": [
    "# 특성 스케일링\n",
    "scaler = MinMaxScaler()\n",
    "X_scaled = scaler.fit_transform(X_encoded)"
   ]
  },
  {
   "cell_type": "markdown",
   "id": "cad1096d",
   "metadata": {},
   "source": [
    "# 다층 퍼셉트론 회귀 모델 구축\n",
    "model = MLPRegressor(hidden_layer_sizes=(64, 64), activation='relu', random_state=42)"
   ]
  },
  {
   "cell_type": "markdown",
   "id": "1e0bd57c",
   "metadata": {},
   "source": [
    "# 모델 학습\n",
    "model.fit(X_train, y_train)"
   ]
  },
  {
   "cell_type": "markdown",
   "id": "a1bad500",
   "metadata": {},
   "source": [
    "# 모델 예측\n",
    "y_pred = model.predict(X_test)"
   ]
  },
  {
   "cell_type": "markdown",
   "id": "6867193d",
   "metadata": {},
   "source": [
    "# 모델 평가\n",
    "mse = mean_squared_error(y_test, y_pred)"
   ]
  },
  {
   "cell_type": "markdown",
   "id": "6ffd4e3a",
   "metadata": {},
   "source": [
    "import pandas as pd\n",
    "from sklearn.model_selection import train_test_split\n",
    "from sklearn.tree import DecisionTreeRegressor\n",
    "from sklearn.metrics import mean_squared_error\n",
    "from sklearn import tree\n",
    "import matplotlib.pyplot as plt\n",
    "from sklearn.preprocessing import StandardScaler"
   ]
  },
  {
   "cell_type": "markdown",
   "id": "79e79ef7",
   "metadata": {},
   "source": [
    "# 학습 데이터와 테스트 데이터 분할\n",
    "X_train, X_test, y_train, y_test = train_test_split(X_encoded, y, test_size=0.2, random_state=42)"
   ]
  },
  {
   "cell_type": "markdown",
   "id": "52721db1",
   "metadata": {},
   "source": [
    "# 의사결정 트리 회귀 모델 구축\n",
    "model = DecisionTreeRegressor(random_state=42)"
   ]
  },
  {
   "cell_type": "markdown",
   "id": "9dc02278",
   "metadata": {},
   "source": [
    "# 모델 학습\n",
    "model.fit(X_train, y_train)"
   ]
  },
  {
   "cell_type": "markdown",
   "id": "c8844153",
   "metadata": {},
   "source": [
    "# 모델 예측\n",
    "y_pred = model.predict(X_test)"
   ]
  },
  {
   "cell_type": "markdown",
   "id": "4a756935",
   "metadata": {},
   "source": [
    "# 모델 평가\n",
    "mse = mean_squared_error(y_test, y_pred)"
   ]
  },
  {
   "cell_type": "markdown",
   "id": "1fe159c1",
   "metadata": {},
   "source": [
    "import matplotlib\n",
    "\n",
    "matplotlib.rcParams['font.family'] ='Malgun Gothic'\n",
    "\n",
    "matplotlib.rcParams['axes.unicode_minus'] =False"
   ]
  },
  {
   "cell_type": "markdown",
   "id": "f4f430f4",
   "metadata": {},
   "source": [
    "# 의사결정 트리 시각화\n",
    "plt.figure(figsize=(20, 10))\n",
    "tree.plot_tree(model, feature_names=X_encoded.columns, filled=True)\n",
    "plt.show()"
   ]
  }
 ],
 "metadata": {
  "kernelspec": {
   "display_name": "Python 3 (ipykernel)",
   "language": "python",
   "name": "python3"
  },
  "language_info": {
   "codemirror_mode": {
    "name": "ipython",
    "version": 3
   },
   "file_extension": ".py",
   "mimetype": "text/x-python",
   "name": "python",
   "nbconvert_exporter": "python",
   "pygments_lexer": "ipython3",
   "version": "3.9.7"
  }
 },
 "nbformat": 4,
 "nbformat_minor": 5
}
